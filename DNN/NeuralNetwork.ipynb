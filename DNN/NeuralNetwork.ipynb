{
 "cells": [
  {
   "cell_type": "markdown",
   "metadata": {},
   "source": [
    "# Neural Network from Scratch"
   ]
  },
  {
   "cell_type": "markdown",
   "metadata": {},
   "source": [
    "### Start with the XOR problem\n",
    "- the needs of nonlinearity"
   ]
  },
  {
   "cell_type": "markdown",
   "metadata": {},
   "source": [
    "## NEURAL NETWORK\n",
    "---------"
   ]
  },
  {
   "cell_type": "markdown",
   "metadata": {},
   "source": [
    "### What is Neural Network"
   ]
  },
  {
   "cell_type": "markdown",
   "metadata": {},
   "source": [
    "<h4> *It is a good function approximators that based loosely on the ways in which the brain is believed to work* </h4> "
   ]
  },
  {
   "cell_type": "markdown",
   "metadata": {},
   "source": [
    "<img src=\"images/human_brain.jpg\"/>\n",
    "<caption><center> <u> <font color='purple'> **Figure 1** </u><font color='purple'>  : **Structure of Neurons Brain**</center></caption>"
   ]
  },
  {
   "cell_type": "markdown",
   "metadata": {},
   "source": [
    "<h3> Analogy of Artificial Neural Network With Biological Neural Network </h3>\n",
    "<br/>\n",
    "<h4> Frank Rosenblatt’s Perceptron </h4>\n",
    "<br/>\n",
    "<img src=\"images/ann_analogy.jpg\", style=\"width:450px;height:320px;\"/>\n",
    "<caption><center> <u> <font color='purple'> **Figure 2** </u><font color='purple'>  : **Artificial Neural Network** <br> Analogy of Artificial Neural Network With Biological Neural Network </center></caption>"
   ]
  },
  {
   "cell_type": "markdown",
   "metadata": {},
   "source": [
    "\n",
    "- The dendrites in biological neural network is analogous to the weighted inputs based on their synaptic interconnection in artificial neural network.\n",
    "- Cell body is analogous to the artificial neuron unit in artificial neural network which also comprises of summation and threshold unit.\n",
    "- Axon carry output that is analogous to the output unit in case of artificial neural network. So, ANN are modelled using the working of basic biological neurons.</p>"
   ]
  },
  {
   "cell_type": "markdown",
   "metadata": {},
   "source": [
    "###### The main idea was to define an algorithm in order to learn the values of the weights w that are then multiplied with the input features in order to make a decision whether a neuron fires or not.\n",
    "-------\n",
    "<br/><br/>\n",
    "<img src=\"images/how_a_neuron_works.jpg\", style=\"width:550px;height:320px;\"/>\n",
    "<br/>\n",
    "\n",
    "- Each input is multiplied by its corresponding weights. \n",
    "  Typically weight represents the strength of the interconnection between neurons inside the neural network.\n",
    "  \n",
    "- The weighted inputs are all summed up inside computing unit (artificial neuron). \n",
    "  In case the weighted sum is zero, bias is added to make the output not- zero or to scale up the system response.   Bias has the weight and input always equal to ‘1’.\n",
    "  \n",
    "- The sum corresponds to any numerical value ranging from 0 to infinity. \n",
    "  In order to limit the response to arrive at desired value, the threshold value is set up. For this, the sum is passed through activation function.\n",
    "\n",
    "\n",
    "<img src=\"https://media.condenast.io/photos/59f36f317953d714f00d7706/master/pass/unnamed0.png\", style=\"width:550px;height:320px;\"/>\n",
    "Neural networks are structured as a series of layers, each composed of one or more neurons. Each neuron produces an output, or activation, based on the outputs of the previous layer and a set of weights."
   ]
  },
  {
   "cell_type": "markdown",
   "metadata": {},
   "source": [
    "### Activation Functions\n",
    "---\n",
    "Activation functions are important component in ANN. \n",
    " - It helps the neuron to learn and make sense of something really complicated\n",
    " - Non-linear complex functional mappings between the inputs and response variable. They introduce non-linear properties to our Network.\n",
    " - Main purpose is to convert a input signal of a node to an output signal. That output signal now is used as a input in the next layer in the stack."
   ]
  },
  {
   "cell_type": "markdown",
   "metadata": {},
   "source": [
    "<h4> Sigmoid Function </h4>\n",
    "<img src=\"images/sigmoid.png\", style=\"width:150px;height:80px;\"/>\n",
    "<img src=\"images/sigmoid_plot.png\", style=\"width:250px;height:120px;\"/>\n",
    "\n",
    "<br/>\n",
    "<h4> Tanh Function </h4>\n",
    "<img src=\"images/tanh.png\"/, style=\"width:150px;height:80px;\">\n",
    "<img src=\"images/tanh_plot.png\"/, style=\"width:250px;height:120px;\">\n",
    "<br/>\n",
    "<h4> Rectified Linear Unit (ReLU)</h4>\n",
    "<img src=\"images/ReLU.jpeg\"/>"
   ]
  },
  {
   "cell_type": "markdown",
   "metadata": {},
   "source": [
    "### What does Training mean in NN\n",
    "-------\n",
    "\n",
    "** Training in NN means minimizing the cost (how big is the difference between our prediction and the true label) **\n",
    "- We can define our cost function as:\n",
    "  $$J = \\sum \\frac{1}{2}(Y - Y^{hat})^2$$\n",
    "- There is some combination of w's that will make our cost J, as small as possible.\n",
    "  we have to tweak the weights and bias in order to minimize the cost.\n",
    "\n",
    "\n",
    "\n",
    "<h4> HOW </h4>\n",
    "*Calculus*\n",
    "<p>Calculus tells us that by setting the derivative of the cost function to zero, we can get the locations of every minimum/maximum in the function. However:</p>\n",
    "- We don’t have a simple equation for our cost function, so computing an expression for the derivative and solving it isn’t trivial.\n",
    "- The function is many-dimensional (each weight gets its own dimension) — we need to find the points where all of those derivatives are zero. Also not so trivial\n",
    "- There are lots of minimums and maximums throughout the function, and sorting out which one is the one you should be using can be computationally expensive."
   ]
  },
  {
   "cell_type": "markdown",
   "metadata": {},
   "source": [
    "<h3> Gradient Descent </h3>\n",
    "<img src=\"images/gradient_descent.png\"/, style=\"width:350px;height:200px;\">\n",
    "<br/>\n",
    "\n",
    "- We start off by initializing our weight randomly\n",
    "- Feedforward, make prediction\n",
    "- Taking the derivative of W and b with respect to J\n",
    "\n",
    "<img src=\"https://cdn-images-1.medium.com/max/1600/1*U0VohJIM1F_bE5Msmjzv4Q.png\", style=\"width:150px;height:90px;\"/>"
   ]
  },
  {
   "cell_type": "markdown",
   "metadata": {},
   "source": [
    "\n",
    "<h3> Learning Algorithms used in Neural Network </h3>\n",
    "\n",
    "\n",
    "<br/>\n",
    "<h3> Backpropagation </h3>\n",
    "<img src=\"images/backprop.png\", style=\"width:550px;height:320px;\"/>"
   ]
  },
  {
   "cell_type": "markdown",
   "metadata": {},
   "source": [
    "<h3> Our NN Model for the XOR problem </h3>\n",
    "<img src=\"images/example_nn.jpg\", style=\"width:650px;height:300px;\"/>"
   ]
  },
  {
   "cell_type": "markdown",
   "metadata": {},
   "source": [
    "##### Step by Step\n",
    "- Define our architecture\n",
    "- Prepare the data\n",
    "- Initialize the learnable parameters (weights and biases)\n",
    "- Forward Propagation\n",
    "- Compute cost\n",
    "- Backward Propagation\n",
    "- Update parameters"
   ]
  },
  {
   "cell_type": "code",
   "execution_count": 1,
   "metadata": {
    "collapsed": true
   },
   "outputs": [],
   "source": [
    "import matplotlib.pyplot as plt\n",
    "import numpy as np\n",
    "import matplotlib\n",
    "\n",
    "# Display plots inline and change default figure size\n",
    "%matplotlib inline\n",
    "matplotlib.rcParams['figure.figsize'] = (10.0, 8.0)"
   ]
  },
  {
   "cell_type": "code",
   "execution_count": 2,
   "metadata": {
    "collapsed": true
   },
   "outputs": [],
   "source": [
    "# Helper function to plot a decision boundary.\n",
    "def plot_decision_boundary(pred_func, X, y):\n",
    "    # Set min and max values and give it some padding\n",
    "    x_min, x_max = X[:, 0].min() - .5, X[:, 0].max() + .5\n",
    "    y_min, y_max = X[:, 1].min() - .5, X[:, 1].max() + .5\n",
    "    h = 0.01\n",
    "    # Generate a grid of points with distance h between them\n",
    "    xx, yy = np.meshgrid(np.arange(x_min, x_max, h), np.arange(y_min, y_max, h))\n",
    "    # Predict the function value for the whole gid\n",
    "    Z = pred_func(np.c_[xx.ravel(), yy.ravel()])\n",
    "    Z = Z.reshape(xx.shape)\n",
    "    # Plot the contour and training examples\n",
    "    plt.contourf(xx, yy, Z, cmap=plt.cm.Spectral)\n",
    "    plt.scatter(X[:, 0], X[:, 1], c=y.reshape((4, )), cmap=plt.cm.Spectral)"
   ]
  },
  {
   "cell_type": "code",
   "execution_count": 8,
   "metadata": {
    "collapsed": true
   },
   "outputs": [],
   "source": [
    "class NN(object):\n",
    "    \n",
    "    def __init__(self, n_x, n_h, n_y, learning_rate=0.01):\n",
    "        self.learning_rate = learning_rate\n",
    "        self.W1 = np.random.randn(n_x, n_h)\n",
    "        self.b1 = np.zeros(shape=(1, n_h))\n",
    "        self.W2 = np.random.randn(n_h, n_y)\n",
    "        self.b2 = np.zeros(shape=(1, n_y))\n",
    "    \n",
    "    def _sigmoid(self, Z):\n",
    "        return (1 / (1 + np.exp(-Z)))\n",
    "    \n",
    "    def feedforward(self, X):\n",
    "        # first hidden layer\n",
    "        self.Z1 = np.dot(X, self.W1) + self.b1\n",
    "        self.A1 = np.tanh(self.Z1)\n",
    "\n",
    "        # second layer\n",
    "        self.Z2 = np.dot(self.A1, self.W2) + self.b2\n",
    "        self.A2 = self._sigmoid(self.Z2)\n",
    "\n",
    "        return self.A2\n",
    "    \n",
    "    def compute_cost(self, A2, Y):\n",
    "        \"\"\"\n",
    "        Computes the cross-entropy cost \n",
    "        \"\"\"\n",
    "        m = Y.shape[0] # number of example\n",
    "        logprobs = np.multiply(np.log(A2), Y) + np.multiply((1 - Y), np.log(1 - A2))\n",
    "        cost = - np.sum(logprobs) / m\n",
    "        cost = np.squeeze(cost)     # makes sure cost is the dimension we expect.\n",
    "        return cost\n",
    "    \n",
    "    \n",
    "    def backprop(self, X, Y):\n",
    "        m = X.shape[0]\n",
    "    \n",
    "        self.dZ2 = self.A2 - Y\n",
    "\n",
    "\n",
    "        self.dW2 = (1. / m) * np.dot(self.A1.T, self.dZ2)\n",
    "        self.db2 = (1. / m) * np.sum(self.dZ2, axis=0, keepdims=True)\n",
    "\n",
    "\n",
    "        self.dZ1 = np.multiply(np.dot(self.dZ2, self.W2.T ), 1 - np.power(self.A1, 2))\n",
    "        self.dW1 = (1. / m) * np.dot(X.T, self.dZ1) \n",
    "        self.db1 = (1. / m) * np.sum(self.dZ1, axis=0, keepdims=True)\n",
    "        \n",
    "    def update_parameters(self):\n",
    "        self.W1 -= self.learning_rate * self.dW1\n",
    "        self.b1 -= self.learning_rate * self.db1 \n",
    "        self.W2 -= self.learning_rate * self.dW2\n",
    "        self.b2 -= self.learning_rate * self.db2\n",
    "    \n",
    "    \n",
    "    def predict(self, X):\n",
    "        A2 = self.feedforward(X)\n",
    "        predictions = np.round(A2)\n",
    "        return predictions"
   ]
  },
  {
   "cell_type": "code",
   "execution_count": 9,
   "metadata": {
    "collapsed": true
   },
   "outputs": [],
   "source": [
    "X = np.array([[0, 0],\n",
    "                  [0, 1],\n",
    "                  [1, 0],\n",
    "                  [1, 1]])\n",
    "y = np.array([[0,1,1,0]]).T"
   ]
  },
  {
   "cell_type": "code",
   "execution_count": 10,
   "metadata": {
    "collapsed": false
   },
   "outputs": [
    {
     "data": {
      "text/plain": [
       "<matplotlib.collections.PathCollection at 0x1083e8f90>"
      ]
     },
     "execution_count": 10,
     "metadata": {},
     "output_type": "execute_result"
    },
    {
     "data": {
      "image/png": "[encoded data removed]",
      "text/plain": [
       "<matplotlib.figure.Figure at 0x108402390>"
      ]
     },
     "metadata": {},
     "output_type": "display_data"
    }
   ],
   "source": [
    "plt.scatter(X[:,0], X[:,1], s=40, c=y.reshape((4, )), cmap=plt.cm.Spectral)"
   ]
  },
  {
   "cell_type": "code",
   "execution_count": 11,
   "metadata": {
    "collapsed": true
   },
   "outputs": [],
   "source": [
    "def build_model(X, y, num_hidden, learning_rate=0.01, num_iterations=50000, verbose=True):\n",
    "    model = NN(n_x=2, n_h=num_hidden, n_y=1, learning_rate=learning_rate)\n",
    "    cost_history = []\n",
    "    for i in range(0, num_iterations):\n",
    "        A2 = model.feedforward(X)\n",
    "        cost = model.compute_cost(A2, y)\n",
    "        model.backprop(X, y)\n",
    "        model.update_parameters()\n",
    "        if i % 1000 == 0 and verbose:\n",
    "            print (\"Iteration %i Cost: %f\" % (i, cost))\n",
    "            \n",
    "        cost_history.append(cost)\n",
    "    return model, cost_history"
   ]
  },
  {
   "cell_type": "code",
   "execution_count": 21,
   "metadata": {
    "collapsed": false
   },
   "outputs": [
    {
     "name": "stdout",
     "output_type": "stream",
     "text": [
      "Iteration 0 Cost: 0.776641\n",
      "Iteration 1000 Cost: 0.650319\n",
      "Iteration 2000 Cost: 0.525765\n"
     ]
    },
    {
     "data": {
      "text/plain": [
       "<matplotlib.text.Text at 0x10d965e90>"
      ]
     },
     "execution_count": 21,
     "metadata": {},
     "output_type": "execute_result"
    },
    {
     "data": {
      "image/png": "[encoded data removed]",
      "text/plain": [
       "<matplotlib.figure.Figure at 0x10d5d6990>"
      ]
     },
     "metadata": {},
     "output_type": "display_data"
    }
   ],
   "source": [
    "model, _ = build_model(X, y, 3, num_iterations=2500)\n",
    "# Plot the decision boundary\n",
    "plot_decision_boundary(lambda x: model.predict(x), X, y)\n",
    "plt.title(\"Neural Networks with 3 neurons\")"
   ]
  },
  {
   "cell_type": "code",
   "execution_count": 73,
   "metadata": {
    "collapsed": false
   },
   "outputs": [
    {
     "name": "stdout",
     "output_type": "stream",
     "text": [
      "Iteration 0 Cost: 0.872109\n",
      "Iteration 1000 Cost: 0.639951\n",
      "Iteration 2000 Cost: 0.548575\n",
      "Iteration 3000 Cost: 0.476667\n",
      "Iteration 4000 Cost: 0.433269\n",
      "Iteration 5000 Cost: 0.408599\n",
      "Iteration 6000 Cost: 0.393780\n",
      "Iteration 7000 Cost: 0.384214\n",
      "Iteration 8000 Cost: 0.377644\n",
      "Iteration 9000 Cost: 0.372902\n",
      "Iteration 10000 Cost: 0.369342\n",
      "Iteration 11000 Cost: 0.366583\n",
      "Iteration 12000 Cost: 0.364390\n",
      "Iteration 13000 Cost: 0.362608\n",
      "Iteration 14000 Cost: 0.361135\n",
      "Iteration 15000 Cost: 0.359898\n",
      "Iteration 16000 Cost: 0.358847\n",
      "Iteration 17000 Cost: 0.357943\n",
      "Iteration 18000 Cost: 0.357157\n",
      "Iteration 19000 Cost: 0.356469\n",
      "Iteration 20000 Cost: 0.355862\n",
      "Iteration 21000 Cost: 0.355322\n",
      "Iteration 22000 Cost: 0.354840\n",
      "Iteration 23000 Cost: 0.354406\n",
      "Iteration 24000 Cost: 0.354013\n",
      "Iteration 25000 Cost: 0.353657\n",
      "Iteration 26000 Cost: 0.353332\n",
      "Iteration 27000 Cost: 0.353035\n",
      "Iteration 28000 Cost: 0.352762\n",
      "Iteration 29000 Cost: 0.352510\n",
      "Iteration 30000 Cost: 0.352277\n",
      "Iteration 31000 Cost: 0.352062\n",
      "Iteration 32000 Cost: 0.351861\n",
      "Iteration 33000 Cost: 0.351674\n",
      "Iteration 34000 Cost: 0.351500\n",
      "Iteration 35000 Cost: 0.351337\n",
      "Iteration 36000 Cost: 0.351184\n",
      "Iteration 37000 Cost: 0.351040\n",
      "Iteration 38000 Cost: 0.350904\n",
      "Iteration 39000 Cost: 0.350777\n",
      "Iteration 40000 Cost: 0.350656\n",
      "Iteration 41000 Cost: 0.350542\n",
      "Iteration 42000 Cost: 0.350434\n",
      "Iteration 43000 Cost: 0.350331\n",
      "Iteration 44000 Cost: 0.350234\n",
      "Iteration 45000 Cost: 0.350142\n",
      "Iteration 46000 Cost: 0.350054\n",
      "Iteration 47000 Cost: 0.349970\n",
      "Iteration 48000 Cost: 0.349889\n",
      "Iteration 49000 Cost: 0.349813\n"
     ]
    },
    {
     "data": {
      "text/plain": [
       "Text(0.5,1,u'Neural Networks with 2 neurons')"
      ]
     },
     "execution_count": 73,
     "metadata": {},
     "output_type": "execute_result"
    },
    {
     "data": {
      "image/png": "[encoded data removed]",
      "text/plain": [
       "<matplotlib.figure.Figure at 0x10a8e1990>"
      ]
     },
     "metadata": {},
     "output_type": "display_data"
    }
   ],
   "source": [
    "model, _ = build_model(X, y, 2)\n",
    "# Plot the decision boundary\n",
    "plot_decision_boundary(lambda x: model.predict(x), X, y)\n",
    "plt.title(\"Neural Networks with 2 neurons\")"
   ]
  },
  {
   "cell_type": "code",
   "execution_count": 74,
   "metadata": {
    "collapsed": false
   },
   "outputs": [
    {
     "name": "stdout",
     "output_type": "stream",
     "text": [
      "Iteration 0 Cost: 0.720030\n",
      "Iteration 1000 Cost: 0.618398\n",
      "Iteration 2000 Cost: 0.526784\n",
      "Iteration 3000 Cost: 0.463529\n",
      "Iteration 4000 Cost: 0.426409\n",
      "Iteration 5000 Cost: 0.401629\n",
      "Iteration 6000 Cost: 0.346461\n",
      "Iteration 7000 Cost: 0.199930\n",
      "Iteration 8000 Cost: 0.121053\n",
      "Iteration 9000 Cost: 0.084581\n",
      "Iteration 10000 Cost: 0.064743\n",
      "Iteration 11000 Cost: 0.052315\n",
      "Iteration 12000 Cost: 0.043794\n",
      "Iteration 13000 Cost: 0.037592\n",
      "Iteration 14000 Cost: 0.032882\n",
      "Iteration 15000 Cost: 0.029189\n",
      "Iteration 16000 Cost: 0.026219\n",
      "Iteration 17000 Cost: 0.023781\n",
      "Iteration 18000 Cost: 0.021747\n",
      "Iteration 19000 Cost: 0.020024\n",
      "Iteration 20000 Cost: 0.018548\n",
      "Iteration 21000 Cost: 0.017269\n",
      "Iteration 22000 Cost: 0.016152\n",
      "Iteration 23000 Cost: 0.015167\n",
      "Iteration 24000 Cost: 0.014293\n",
      "Iteration 25000 Cost: 0.013512\n",
      "Iteration 26000 Cost: 0.012810\n",
      "Iteration 27000 Cost: 0.012177\n",
      "Iteration 28000 Cost: 0.011602\n",
      "Iteration 29000 Cost: 0.011077\n",
      "Iteration 30000 Cost: 0.010598\n",
      "Iteration 31000 Cost: 0.010157\n",
      "Iteration 32000 Cost: 0.009751\n",
      "Iteration 33000 Cost: 0.009376\n",
      "Iteration 34000 Cost: 0.009028\n",
      "Iteration 35000 Cost: 0.008705\n",
      "Iteration 36000 Cost: 0.008403\n",
      "Iteration 37000 Cost: 0.008122\n",
      "Iteration 38000 Cost: 0.007858\n",
      "Iteration 39000 Cost: 0.007611\n",
      "Iteration 40000 Cost: 0.007379\n",
      "Iteration 41000 Cost: 0.007160\n",
      "Iteration 42000 Cost: 0.006954\n",
      "Iteration 43000 Cost: 0.006759\n",
      "Iteration 44000 Cost: 0.006575\n",
      "Iteration 45000 Cost: 0.006400\n",
      "Iteration 46000 Cost: 0.006234\n",
      "Iteration 47000 Cost: 0.006077\n",
      "Iteration 48000 Cost: 0.005927\n",
      "Iteration 49000 Cost: 0.005784\n"
     ]
    },
    {
     "data": {
      "text/plain": [
       "Text(0.5,1,u'Neural Networks with 4 neurons')"
      ]
     },
     "execution_count": 74,
     "metadata": {},
     "output_type": "execute_result"
    },
    {
     "data": {
      "image/png": "[encoded data removed]",
      "text/plain": [
       "<matplotlib.figure.Figure at 0x10e8b31d0>"
      ]
     },
     "metadata": {},
     "output_type": "display_data"
    }
   ],
   "source": [
    "model, _ = build_model(X, y, 4)\n",
    "# Plot the decision boundary\n",
    "plot_decision_boundary(lambda x: model.predict(x), X, y)\n",
    "plt.title(\"Neural Networks with 4 neurons\")"
   ]
  },
  {
   "cell_type": "code",
   "execution_count": 75,
   "metadata": {
    "collapsed": false
   },
   "outputs": [
    {
     "name": "stdout",
     "output_type": "stream",
     "text": [
      "Iteration 0 Cost: 0.764333\n",
      "Iteration 1000 Cost: 0.437663\n",
      "Iteration 2000 Cost: 0.265287\n",
      "Iteration 3000 Cost: 0.161226\n",
      "Iteration 4000 Cost: 0.106908\n",
      "Iteration 5000 Cost: 0.077044\n",
      "Iteration 6000 Cost: 0.059105\n",
      "Iteration 7000 Cost: 0.047451\n",
      "Iteration 8000 Cost: 0.039388\n",
      "Iteration 9000 Cost: 0.033528\n",
      "Iteration 10000 Cost: 0.029102\n",
      "Iteration 11000 Cost: 0.025653\n",
      "Iteration 12000 Cost: 0.022897\n",
      "Iteration 13000 Cost: 0.020650\n",
      "Iteration 14000 Cost: 0.018785\n",
      "Iteration 15000 Cost: 0.017215\n",
      "Iteration 16000 Cost: 0.015876\n",
      "Iteration 17000 Cost: 0.014722\n",
      "Iteration 18000 Cost: 0.013717\n",
      "Iteration 19000 Cost: 0.012835\n",
      "Iteration 20000 Cost: 0.012055\n",
      "Iteration 21000 Cost: 0.011361\n",
      "Iteration 22000 Cost: 0.010740\n",
      "Iteration 23000 Cost: 0.010180\n",
      "Iteration 24000 Cost: 0.009674\n",
      "Iteration 25000 Cost: 0.009213\n",
      "Iteration 26000 Cost: 0.008793\n",
      "Iteration 27000 Cost: 0.008409\n",
      "Iteration 28000 Cost: 0.008055\n",
      "Iteration 29000 Cost: 0.007729\n",
      "Iteration 30000 Cost: 0.007427\n",
      "Iteration 31000 Cost: 0.007147\n",
      "Iteration 32000 Cost: 0.006887\n",
      "Iteration 33000 Cost: 0.006644\n",
      "Iteration 34000 Cost: 0.006417\n",
      "Iteration 35000 Cost: 0.006205\n",
      "Iteration 36000 Cost: 0.006006\n",
      "Iteration 37000 Cost: 0.005818\n",
      "Iteration 38000 Cost: 0.005642\n",
      "Iteration 39000 Cost: 0.005476\n",
      "Iteration 40000 Cost: 0.005319\n",
      "Iteration 41000 Cost: 0.005170\n",
      "Iteration 42000 Cost: 0.005029\n",
      "Iteration 43000 Cost: 0.004896\n",
      "Iteration 44000 Cost: 0.004769\n",
      "Iteration 45000 Cost: 0.004648\n",
      "Iteration 46000 Cost: 0.004533\n",
      "Iteration 47000 Cost: 0.004424\n",
      "Iteration 48000 Cost: 0.004319\n",
      "Iteration 49000 Cost: 0.004219\n"
     ]
    },
    {
     "data": {
      "text/plain": [
       "Text(0.5,1,u'Neural Networks with 5 neurons')"
      ]
     },
     "execution_count": 75,
     "metadata": {},
     "output_type": "execute_result"
    },
    {
     "data": {
      "image/png": "[encoded data removed]",
      "text/plain": [
       "<matplotlib.figure.Figure at 0x10b4bb850>"
      ]
     },
     "metadata": {},
     "output_type": "display_data"
    }
   ],
   "source": [
    "model, _ = build_model(X, y, 5)\n",
    "# Plot the decision boundary\n",
    "plot_decision_boundary(lambda x: model.predict(x), X, y)\n",
    "plt.title(\"Neural Networks with 5 neurons\")"
   ]
  },
  {
   "cell_type": "markdown",
   "metadata": {
    "collapsed": true
   },
   "source": [
    "### The problem of very deep neural networks\n",
    "---------\n",
    "\n",
    "<p> Theoritically, the main benefit of a very deep network is that it can **represent very complex functions**. Specifically, by using a deeper architecture, we can learn features at many different levels of abstraction, from edges (at the lower layers) to very complex features (at the deeper layers).</p><br/>"
   ]
  },
  {
   "cell_type": "markdown",
   "metadata": {},
   "source": [
    "<p> However, using a deeper network doesn't always help in practice. The biggest problem that we will encounter when training a deeper network is the *vanishing gradients* problem: a condition where a very deep networks often have a gradient signal that goes to zero quickly, thus making gradient descent unbearably slow. </p><br/>"
   ]
  },
  {
   "cell_type": "markdown",
   "metadata": {},
   "source": [
    "<p> More specifically, during gradient descent, as we backprop from the final layer back to the first layer, we are multiplying by the weight matrix on each step, and thus the gradient can decrease exponentially quickly to zero or, in rare cases, grow exponentially quickly and \"explode\" to take very large values. \n",
    "\n",
    "</p>\n",
    "During training, you might therefore see the magnitude (or norm) of the gradient for the earlier layers descrease to zero very rapidly as training proceeds: "
   ]
  },
  {
   "cell_type": "markdown",
   "metadata": {
    "collapsed": true
   },
   "source": [
    "<img src=\"images/vanishing_grad_kiank.png\" style=\"width:450px;height:220px;\">\n",
    "<caption><center> <u> <font color='purple'> **Figure 1** </u><font color='purple'>  : **Vanishing gradient** <br> The speed of learning decreases very rapidly for the early layers as the network trains </center></caption>"
   ]
  },
  {
   "cell_type": "code",
   "execution_count": null,
   "metadata": {
    "collapsed": true
   },
   "outputs": [],
   "source": []
  },
  {
   "cell_type": "code",
   "execution_count": null,
   "metadata": {
    "collapsed": true
   },
   "outputs": [],
   "source": [
    "s"
   ]
  }
 ],
 "metadata": {
  "kernelspec": {
   "display_name": "Python 2",
   "language": "python",
   "name": "python2"
  },
  "language_info": {
   "codemirror_mode": {
    "name": "ipython",
    "version": 2
   },
   "file_extension": ".py",
   "mimetype": "text/x-python",
   "name": "python",
   "nbconvert_exporter": "python",
   "pygments_lexer": "ipython2",
   "version": "2.7.10"
  }
 },
 "nbformat": 4,
 "nbformat_minor": 2
}
