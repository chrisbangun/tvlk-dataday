{
 "cells": [
  {
   "cell_type": "markdown",
   "metadata": {
    "slideshow": {
     "slide_type": "slide"
    }
   },
   "source": [
    "## NEURAL NETWORK\n",
    "---------"
   ]
  },
  {
   "cell_type": "markdown",
   "metadata": {
    "slideshow": {
     "slide_type": "slide"
    }
   },
   "source": [
    "### What is Neural Network"
   ]
  },
  {
   "cell_type": "markdown",
   "metadata": {
    "slideshow": {
     "slide_type": "slide"
    }
   },
   "source": [
    "<h4> *It is a good function approximators that based loosely on the ways in which the brain is believed to work* </h4> "
   ]
  },
  {
   "cell_type": "markdown",
   "metadata": {
    "slideshow": {
     "slide_type": "slide"
    }
   },
   "source": [
    "![alt text](images/human_brain.jpg \"human brain\")\n",
    "<caption><center> <u> <font color='purple'> **Figure 1** </u><font color='purple'>  : **Structure of Neurons Brain**</center></caption>"
   ]
  },
  {
   "cell_type": "markdown",
   "metadata": {
    "slideshow": {
     "slide_type": "slide"
    }
   },
   "source": [
    "<h3> Analogy of Artificial Neural Network With Biological Neural Network </h3>\n",
    "<br/>\n",
    "![alt text](images/ann_analogy.jpg \"ann_analogy\")\n",
    "<caption><center> <u> <font color='purple'> **Figure 2** </u><font color='purple'>  : **Artificial Neural Network** <br> Analogy of Artificial Neural Network With Biological Neural Network </center></caption>"
   ]
  },
  {
   "cell_type": "markdown",
   "metadata": {
    "slideshow": {
     "slide_type": "notes"
    }
   },
   "source": [
    "\n",
    "- The dendrites in biological neural network is analogous to the weighted inputs based on their synaptic interconnection in artificial neural network.\n",
    "- Cell body is analogous to the artificial neuron unit in artificial neural network which also comprises of summation and threshold unit.\n",
    "- Axon carry output that is analogous to the output unit in case of artificial neural network. So, ANN are modelled using the working of basic biological neurons.</p>"
   ]
  },
  {
   "cell_type": "markdown",
   "metadata": {
    "slideshow": {
     "slide_type": "slide"
    }
   },
   "source": [
    "<h4> Frank Rosenblatt’s Perceptron </h4>\n",
    "![alt text](images/sigmoid_neuron.png \"sigmoid_neuron\")\n",
    "\n",
    "<br/>\n",
    "- In the example shown the perceptron has three inputs, x1,x2,x3x1,x2,x3. \n",
    "- Rosenblatt proposed a simple rule to compute the output. He introduced weights, w1,w2,…w1,w2,…, real numbers expressing the importance of the respective inputs to the output. \n",
    "- The neuron's output, 0 or 1, is determined by whether the weighted sum $$\\sum w_j x_j$$ is less than or greater than some threshold value. "
   ]
  },
  {
   "cell_type": "markdown",
   "metadata": {
    "slideshow": {
     "slide_type": "slide"
    }
   },
   "source": [
    "![alt text](images/perceptron.png \"sigmoid_neuron_2\")"
   ]
  },
  {
   "cell_type": "markdown",
   "metadata": {
    "slideshow": {
     "slide_type": "slide"
    }
   },
   "source": [
    "![alt text](images/modified_formula.png \"modified_perceptron_formula\")"
   ]
  },
  {
   "cell_type": "markdown",
   "metadata": {
    "slideshow": {
     "slide_type": "slide"
    }
   },
   "source": [
    "###### The main idea was to define an algorithm in order to learn the values of the weights w that are then multiplied with the input features in order to make a decision whether a neuron fires or not.\n",
    "-------\n",
    "<br/><br/>\n",
    "![](images/how_a_neuron_works.jpg)\n",
    "<br/>\n",
    "\n",
    "##### perceptron can weigh up different kinds of evidence in order to make decisions"
   ]
  },
  {
   "cell_type": "markdown",
   "metadata": {
    "slideshow": {
     "slide_type": "slide"
    }
   },
   "source": [
    "#### back then, a perceptron used a activation function (step function) called the *Heaviside step function*\n",
    "<br/><br/>\n",
    "<img src=\"images/stepfn.png\" width=\"270\" height=\"200\" border=\"10\" />\n",
    "<br/>\n",
    "##### whose value is zero for negative argument and one for positive argument"
   ]
  },
  {
   "cell_type": "markdown",
   "metadata": {
    "slideshow": {
     "slide_type": "slide"
    }
   },
   "source": [
    "- Multi-layer perceptrons are trained using backpropapagation. \n",
    "  A requirement for backpropagation is a differentiable activation function. That's because backpropagation uses gradient descent on this function to update the network weights.\n",
    "\n",
    "<br/>\n",
    "- The Heaviside step function is non-differentiable at x = 0 and its derivative is 0 elsewhere. \n",
    "  This means gradient descent won't be able to make progress in updating the weights and backpropagation will fail."
   ]
  },
  {
   "cell_type": "markdown",
   "metadata": {
    "slideshow": {
     "slide_type": "slide"
    }
   },
   "source": [
    "### Activation Functions\n",
    "---\n",
    "Activation functions are important component in ANN. \n",
    " - **It helps the neuron to learn and make sense of something really complicated**\n",
    " <br/>\n",
    " <br/>\n",
    " - **Non-linear complex functional mappings between the inputs and response variable. They introduce non-linear properties to our Network.**\n",
    " <br/><br/>\n",
    " - **we'd like a small change in weight to cause only a small corresponding change in the output from the network**\n",
    "<img src=\"images/learning.png\" width=\"370\" height=\"300\" border=\"50\" />"
   ]
  },
  {
   "cell_type": "markdown",
   "metadata": {
    "slideshow": {
     "slide_type": "slide"
    }
   },
   "source": [
    "<h4> Sigmoid Function </h4>\n",
    "$$sigmoid(z) = \\frac{1}{1 + e^{-z}} $$\n",
    "![alt text](images/sigmoid_plot.png \"sigmoid\")"
   ]
  },
  {
   "cell_type": "markdown",
   "metadata": {
    "slideshow": {
     "slide_type": "slide"
    }
   },
   "source": [
    "<h4> Tanh Function </h4>\n",
    "$$tanh(z) = \\frac{e^{z} - e^{-z}}{e^{z} + e^{-z}} $$\n",
    "![alt text](images/tanh_plot.png \"tanh\")"
   ]
  },
  {
   "cell_type": "markdown",
   "metadata": {
    "slideshow": {
     "slide_type": "slide"
    }
   },
   "source": [
    "<h4> Rectified Linear Unit (ReLU)</h4>\n",
    "$$relu(z) = max(0, z) $$\n",
    "\n",
    "![alt text](images/ReLU.jpeg \"ReLU\")\n",
    "##### why is ReLU non linear?\n",
    "<br/>\n",
    "![alt text](images/ReLU_2.png \"ReLU_2\")"
   ]
  },
  {
   "cell_type": "markdown",
   "metadata": {
    "slideshow": {
     "slide_type": "slide"
    }
   },
   "source": [
    "### Generate Prediction (Feedforward)\n",
    "---\n",
    "![alt text](images/feedforward.png \"feedforward\")"
   ]
  },
  {
   "cell_type": "markdown",
   "metadata": {
    "slideshow": {
     "slide_type": "slide"
    }
   },
   "source": [
    "### What does Training mean in NN\n",
    "-------\n",
    "\n",
    "** Training in NN means minimizing the cost (how big is the difference between our prediction and the true label) **\n",
    "- We can define our cost function as:\n",
    "  $$J = \\sum \\frac{1}{2}(Y - Y^{hat})^2$$\n",
    "- There is some combination of w's that will make our cost J, as small as possible.\n",
    "  we have to tweak the weights and bias in order to minimize the cost.\n"
   ]
  },
  {
   "cell_type": "markdown",
   "metadata": {
    "slideshow": {
     "slide_type": "slide"
    }
   },
   "source": [
    "<h2> Learning Algorithms used in Neural Network </h2>\n",
    "<h3> Gradient Descent </h3>\n",
    "*compute the best direction along which we should change our weight vector that is mathematically guaranteed to be the direction of the steepest descend*\n",
    "![alt text](images/gradient_descent.png \"gradient_descent\")"
   ]
  },
  {
   "cell_type": "markdown",
   "metadata": {
    "slideshow": {
     "slide_type": "subslide"
    }
   },
   "source": [
    "- by updating the parameters in the opposite direction of the gradient of the objective function **∇θJ(θ)** w.r.t. to the parameters. The learning rate **η** determines the size of the steps we take to reach a (local) minimum. \n",
    "\n",
    "- In other words, we follow the direction of the slope of the surface created by the objective function downhill until we reach a valley. "
   ]
  },
  {
   "cell_type": "markdown",
   "metadata": {
    "slideshow": {
     "slide_type": "slide"
    }
   },
   "source": [
    "- We start off by initializing our weight randomly\n",
    "- Feedforward, make prediction\n",
    "- Taking the derivative of W and b with respect to J\n",
    "\n",
    "![alt text](https://cdn-images-1.medium.com/max/1600/1*U0VohJIM1F_bE5Msmjzv4Q.png \"gradient_descent\")"
   ]
  },
  {
   "cell_type": "markdown",
   "metadata": {
    "slideshow": {
     "slide_type": "slide"
    }
   },
   "source": [
    "\n",
    "\n",
    "\n",
    "<h3> Backpropagation </h3>\n",
    "<h4> a repeated application of chain rule of calculus for partial derivatives </h4>\n",
    "![alt text](images/backprop_kiank.png \"gradient_descent\")"
   ]
  },
  {
   "cell_type": "markdown",
   "metadata": {
    "slideshow": {
     "slide_type": "slide"
    }
   },
   "source": [
    "$$\n",
    "\\frac{\\partial J}{\\partial W^{(2)}} = \\frac{\\partial \\sum \\frac{1}{2}(y-\\hat{y})^2}{\\partial W^{(2)}}\n",
    "$$"
   ]
  },
  {
   "cell_type": "markdown",
   "metadata": {
    "slideshow": {
     "slide_type": "fragment"
    }
   },
   "source": [
    "$$\n",
    "\\frac{\\partial J}{\\partial W^{(2)}} = -(y-\\hat{y}) \\frac{\\partial \\hat{y}}{\\partial W^{(2)}}\n",
    "$$"
   ]
  },
  {
   "cell_type": "markdown",
   "metadata": {
    "slideshow": {
     "slide_type": "fragment"
    }
   },
   "source": [
    "$$\n",
    "\\frac{\\partial J}{\\partial W^{(2)}} = \n",
    "-(y-\\hat{y})\n",
    "\\frac{\\partial \\hat{y}}{\\partial z^{(2)}}  \n",
    "\\frac{\\partial z^{(2)}}{\\partial W^{(2)}}\n",
    "$$"
   ]
  },
  {
   "cell_type": "markdown",
   "metadata": {
    "slideshow": {
     "slide_type": "slide"
    }
   },
   "source": [
    "*To find the rate of change of yHat with respect to z2, we need to differentiate our sigmoid activation function with respect to z.*\n",
    "<br/><br/>\n",
    "$$\n",
    "f(z) = \\frac{1}{1+e^{-z}}\n",
    "$$\n",
    "<br/>\n",
    "$$\n",
    "f^\\prime(z) = \\frac{e^{-z}}{(1+e^{-z})^2}\n",
    "$$"
   ]
  },
  {
   "cell_type": "markdown",
   "metadata": {
    "slideshow": {
     "slide_type": "slide"
    }
   },
   "source": [
    "$$\n",
    "\\frac{\\partial J}{\\partial W^{(2)}}= \n",
    "-(y-\\hat{y}) f^\\prime(z^{(2)}) \\frac{\\partial z^{(2)}}{\\partial W^{(2)}}\n",
    "$$\n",
    "\n",
    "$$\n",
    "z^{(2)} = a^{(1)}W^{(2)} \\tag{3}\\\\\n",
    "$$\n",
    "\n",
    "$$\n",
    "\\frac{\\partial J}{\\partial W^{(2)}}= \n",
    "-(y-\\hat{y}) f^\\prime(z^{(2)}) a^{(1)}\n",
    "$$"
   ]
  },
  {
   "cell_type": "code",
   "execution_count": null,
   "metadata": {
    "collapsed": true,
    "slideshow": {
     "slide_type": "fragment"
    }
   },
   "outputs": [],
   "source": [
    "self.y_hat = self.forward(X)\n",
    "delta2 = np.multiply(- (y - self.y_hat), self.sigmoidPrime(self.z2))\n",
    "dJdW2 = np.dot(self.a1.T, delta2)"
   ]
  },
  {
   "cell_type": "markdown",
   "metadata": {
    "slideshow": {
     "slide_type": "slide"
    }
   },
   "source": [
    "![alt text](images/grad_summary.png \"grad_summary\")"
   ]
  },
  {
   "cell_type": "markdown",
   "metadata": {
    "slideshow": {
     "slide_type": "slide"
    }
   },
   "source": [
    "<h3> Our NN Model for the XOR problem </h3>\n",
    "\n",
    "![alt text](images/example_nn.jpg \"grad_summary\")"
   ]
  },
  {
   "cell_type": "markdown",
   "metadata": {
    "slideshow": {
     "slide_type": "slide"
    }
   },
   "source": [
    "##### Step by Step\n",
    "- Define our architecture\n",
    "- Prepare the data\n",
    "- Initialize the learnable parameters (weights and biases)\n",
    "- Forward Propagation\n",
    "- Compute cost\n",
    "- Backward Propagation\n",
    "- Update parameters"
   ]
  },
  {
   "cell_type": "code",
   "execution_count": 9,
   "metadata": {
    "collapsed": true,
    "slideshow": {
     "slide_type": "slide"
    }
   },
   "outputs": [],
   "source": [
    "import matplotlib.pyplot as plt\n",
    "import numpy as np\n",
    "import matplotlib\n",
    "\n",
    "# Display plots inline and change default figure size\n",
    "%matplotlib inline\n",
    "matplotlib.rcParams['figure.figsize'] = (10.0, 8.0)"
   ]
  },
  {
   "cell_type": "code",
   "execution_count": 10,
   "metadata": {
    "collapsed": true,
    "slideshow": {
     "slide_type": "slide"
    }
   },
   "outputs": [],
   "source": [
    "# Helper function to plot a decision boundary.\n",
    "def plot_decision_boundary(pred_func, X, y):\n",
    "    # Set min and max values and give it some padding\n",
    "    x_min, x_max = X[:, 0].min() - .5, X[:, 0].max() + .5\n",
    "    y_min, y_max = X[:, 1].min() - .5, X[:, 1].max() + .5\n",
    "    h = 0.01\n",
    "    # Generate a grid of points with distance h between them\n",
    "    xx, yy = np.meshgrid(np.arange(x_min, x_max, h), np.arange(y_min, y_max, h))\n",
    "    # Predict the function value for the whole gid\n",
    "    Z = pred_func(np.c_[xx.ravel(), yy.ravel()])\n",
    "    Z = Z.reshape(xx.shape)\n",
    "    # Plot the contour and training examples\n",
    "    plt.contourf(xx, yy, Z, cmap=plt.cm.Spectral)\n",
    "    plt.scatter(X[:, 0], X[:, 1], c=y.reshape((4, )), cmap=plt.cm.Spectral)"
   ]
  },
  {
   "cell_type": "code",
   "execution_count": 27,
   "metadata": {
    "collapsed": true,
    "slideshow": {
     "slide_type": "slide"
    }
   },
   "outputs": [],
   "source": [
    "class NN(object):\n",
    "    def __init__(self, n_x, n_h, n_y, learning_rate=0.01):\n",
    "        self.learning_rate = learning_rate\n",
    "        self.W1 = np.random.randn(n_x, n_h)\n",
    "        self.b1 = np.zeros(shape=(1, n_h))\n",
    "        self.W2 = np.random.randn(n_h, n_y)\n",
    "        self.b2 = np.zeros(shape=(1, n_y))\n",
    "        "
   ]
  },
  {
   "cell_type": "code",
   "execution_count": 3,
   "metadata": {
    "collapsed": true,
    "slideshow": {
     "slide_type": "slide"
    }
   },
   "outputs": [],
   "source": [
    "def _sigmoid(self, Z):\n",
    "        return (1 / (1 + np.exp(-Z)))\n",
    "    \n",
    "def feedforward(self, X):\n",
    "    # first hidden layer\n",
    "    self.Z1 = np.dot(X, self.W1) + self.b1\n",
    "    self.A1 = np.tanh(self.Z1)\n",
    "    # second layer\n",
    "    self.Z2 = np.dot(self.A1, self.W2) + self.b2\n",
    "    self.A2 = self._sigmoid(self.Z2)\n",
    "    return self.A2 "
   ]
  },
  {
   "cell_type": "code",
   "execution_count": 4,
   "metadata": {
    "collapsed": true,
    "slideshow": {
     "slide_type": "slide"
    }
   },
   "outputs": [],
   "source": [
    "def compute_cost(self, A2, Y):\n",
    "    \"\"\"\n",
    "    Computes the cross-entropy cost \n",
    "    \"\"\"\n",
    "    m = Y.shape[0] # number of example\n",
    "    logprobs = np.multiply(np.log(A2), Y) + np.multiply((1 - Y), np.log(1 - A2))\n",
    "    cost = - np.sum(logprobs) / m\n",
    "    cost = np.squeeze(cost)     # makes sure cost is the dimension we expect.\n",
    "    return cost"
   ]
  },
  {
   "cell_type": "code",
   "execution_count": 5,
   "metadata": {
    "collapsed": true,
    "slideshow": {
     "slide_type": "slide"
    }
   },
   "outputs": [],
   "source": [
    "def backprop(self, X, Y):\n",
    "    m = X.shape[0]\n",
    "\n",
    "    self.dZ2 = self.A2 - Y\n",
    "\n",
    "\n",
    "    self.dW2 = (1. / m) * np.dot(self.A1.T, self.dZ2)\n",
    "    self.db2 = (1. / m) * np.sum(self.dZ2, axis=0, keepdims=True)\n",
    "\n",
    "\n",
    "    self.dZ1 = np.multiply(np.dot(self.dZ2, self.W2.T ), 1 - np.power(self.A1, 2))\n",
    "    self.dW1 = (1. / m) * np.dot(X.T, self.dZ1) \n",
    "    self.db1 = (1. / m) * np.sum(self.dZ1, axis=0, keepdims=True)"
   ]
  },
  {
   "cell_type": "code",
   "execution_count": 6,
   "metadata": {
    "collapsed": true,
    "slideshow": {
     "slide_type": "slide"
    }
   },
   "outputs": [],
   "source": [
    "def update_parameters(self):\n",
    "    self.W1 -= self.learning_rate * self.dW1\n",
    "    self.b1 -= self.learning_rate * self.db1 \n",
    "    self.W2 -= self.learning_rate * self.dW2\n",
    "    self.b2 -= self.learning_rate * self.db2"
   ]
  },
  {
   "cell_type": "code",
   "execution_count": null,
   "metadata": {
    "collapsed": true,
    "slideshow": {
     "slide_type": "slide"
    }
   },
   "outputs": [],
   "source": [
    "def predict(self, X):\n",
    "    A2 = self.feedforward(X)\n",
    "    predictions = np.round(A2)\n",
    "    return predictions"
   ]
  },
  {
   "cell_type": "code",
   "execution_count": 12,
   "metadata": {
    "collapsed": true,
    "slideshow": {
     "slide_type": "slide"
    }
   },
   "outputs": [],
   "source": [
    "X = np.array([[0, 0],\n",
    "                  [0, 1],\n",
    "                  [1, 0],\n",
    "                  [1, 1]])\n",
    "y = np.array([[0,1,1,0]]).T"
   ]
  },
  {
   "cell_type": "code",
   "execution_count": 13,
   "metadata": {
    "slideshow": {
     "slide_type": "slide"
    }
   },
   "outputs": [
    {
     "data": {
      "text/plain": [
       "<matplotlib.collections.PathCollection at 0x1141afd90>"
      ]
     },
     "execution_count": 13,
     "metadata": {},
     "output_type": "execute_result"
    },
    {
     "data": {
      "image/png": "[encoded data removed]",
      "text/plain": [
       "<matplotlib.figure.Figure at 0x10f1a4e90>"
      ]
     },
     "metadata": {},
     "output_type": "display_data"
    }
   ],
   "source": [
    "plt.scatter(X[:,0], X[:,1], s=40, c=y.reshape((4, )), cmap=plt.cm.Spectral)"
   ]
  },
  {
   "cell_type": "code",
   "execution_count": 18,
   "metadata": {
    "collapsed": true,
    "slideshow": {
     "slide_type": "slide"
    }
   },
   "outputs": [],
   "source": [
    "def build_model(X, y, num_hidden, learning_rate=0.01, num_iterations=50000, verbose=True):\n",
    "    model = NN(n_x=2, n_h=num_hidden, n_y=1, learning_rate=learning_rate)\n",
    "    cost_history = []\n",
    "    for i in range(0, num_iterations):\n",
    "        A2 = model.feedforward(X)\n",
    "        cost = model.compute_cost(A2, y)\n",
    "        model.backprop(X, y)\n",
    "        model.update_parameters()\n",
    "        if i % 1000 == 0 and verbose:\n",
    "            print (\"Iteration %i Cost: %f\" % (i, cost))\n",
    "            \n",
    "        cost_history.append(cost)\n",
    "    return model, cost_history"
   ]
  },
  {
   "cell_type": "code",
   "execution_count": 23,
   "metadata": {
    "slideshow": {
     "slide_type": "slide"
    }
   },
   "outputs": [
    {
     "name": "stdout",
     "output_type": "stream",
     "text": [
      "Iteration 0 Cost: 0.706706\n",
      "Iteration 1000 Cost: 0.654264\n",
      "Iteration 2000 Cost: 0.575510\n",
      "Iteration 3000 Cost: 0.469847\n",
      "Iteration 4000 Cost: 0.350015\n",
      "Iteration 5000 Cost: 0.236700\n",
      "Iteration 6000 Cost: 0.158161\n",
      "Iteration 7000 Cost: 0.111532\n",
      "Iteration 8000 Cost: 0.083616\n",
      "Iteration 9000 Cost: 0.065883\n"
     ]
    }
   ],
   "source": [
    "model, _ = build_model(X, y, 3, num_iterations=9500)"
   ]
  },
  {
   "cell_type": "code",
   "execution_count": 24,
   "metadata": {
    "slideshow": {
     "slide_type": "slide"
    }
   },
   "outputs": [
    {
     "data": {
      "text/plain": [
       "Text(0.5,1,u'Neural Networks with 3 neurons')"
      ]
     },
     "execution_count": 24,
     "metadata": {},
     "output_type": "execute_result"
    },
    {
     "data": {
      "image/png": "[encoded data removed]",
      "text/plain": [
       "<matplotlib.figure.Figure at 0x1150b7910>"
      ]
     },
     "metadata": {},
     "output_type": "display_data"
    }
   ],
   "source": [
    "plot_decision_boundary(lambda x: model.predict(x), X, y)\n",
    "plt.title(\"Neural Networks with 3 neurons\")"
   ]
  },
  {
   "cell_type": "code",
   "execution_count": 21,
   "metadata": {
    "scrolled": true,
    "slideshow": {
     "slide_type": "slide"
    }
   },
   "outputs": [
    {
     "name": "stdout",
     "output_type": "stream",
     "text": [
      "Iteration 0 Cost: 0.757981\n",
      "Iteration 1000 Cost: 0.605591\n",
      "Iteration 2000 Cost: 0.520218\n",
      "Iteration 3000 Cost: 0.410372\n",
      "Iteration 4000 Cost: 0.265787\n",
      "Iteration 5000 Cost: 0.171179\n",
      "Iteration 6000 Cost: 0.120664\n",
      "Iteration 7000 Cost: 0.091530\n",
      "Iteration 8000 Cost: 0.073090\n",
      "Iteration 9000 Cost: 0.060537\n",
      "Iteration 10000 Cost: 0.051507\n",
      "Iteration 11000 Cost: 0.044732\n",
      "Iteration 12000 Cost: 0.039477\n",
      "Iteration 13000 Cost: 0.035292\n",
      "Iteration 14000 Cost: 0.031885\n",
      "Iteration 15000 Cost: 0.029062\n",
      "Iteration 16000 Cost: 0.026685\n",
      "Iteration 17000 Cost: 0.024660\n",
      "Iteration 18000 Cost: 0.022913\n",
      "Iteration 19000 Cost: 0.021392\n",
      "Iteration 20000 Cost: 0.020057\n",
      "Iteration 21000 Cost: 0.018875\n",
      "Iteration 22000 Cost: 0.017823\n",
      "Iteration 23000 Cost: 0.016879\n",
      "Iteration 24000 Cost: 0.016029\n",
      "Iteration 25000 Cost: 0.015259\n",
      "Iteration 26000 Cost: 0.014558\n",
      "Iteration 27000 Cost: 0.013918\n",
      "Iteration 28000 Cost: 0.013331\n",
      "Iteration 29000 Cost: 0.012790\n",
      "Iteration 30000 Cost: 0.012291\n",
      "Iteration 31000 Cost: 0.011829\n",
      "Iteration 32000 Cost: 0.011401\n",
      "Iteration 33000 Cost: 0.011001\n",
      "Iteration 34000 Cost: 0.010629\n",
      "Iteration 35000 Cost: 0.010280\n",
      "Iteration 36000 Cost: 0.009953\n",
      "Iteration 37000 Cost: 0.009646\n",
      "Iteration 38000 Cost: 0.009358\n",
      "Iteration 39000 Cost: 0.009086\n",
      "Iteration 40000 Cost: 0.008829\n",
      "Iteration 41000 Cost: 0.008586\n",
      "Iteration 42000 Cost: 0.008356\n",
      "Iteration 43000 Cost: 0.008138\n",
      "Iteration 44000 Cost: 0.007930\n",
      "Iteration 45000 Cost: 0.007733\n",
      "Iteration 46000 Cost: 0.007546\n",
      "Iteration 47000 Cost: 0.007367\n",
      "Iteration 48000 Cost: 0.007196\n",
      "Iteration 49000 Cost: 0.007033\n"
     ]
    }
   ],
   "source": [
    "model, _ = build_model(X, y, 2) # 2 Neurons in our hidden layer"
   ]
  },
  {
   "cell_type": "code",
   "execution_count": 22,
   "metadata": {
    "slideshow": {
     "slide_type": "slide"
    }
   },
   "outputs": [
    {
     "data": {
      "text/plain": [
       "Text(0.5,1,u'Neural Networks with 2 neurons')"
      ]
     },
     "execution_count": 22,
     "metadata": {},
     "output_type": "execute_result"
    },
    {
     "data": {
      "image/png": "[encoded data removed]",
      "text/plain": [
       "<matplotlib.figure.Figure at 0x11451c190>"
      ]
     },
     "metadata": {},
     "output_type": "display_data"
    }
   ],
   "source": [
    "# Plot the decision boundary\n",
    "plot_decision_boundary(lambda x: model.predict(x), X, y)\n",
    "plt.title(\"Neural Networks with 2 neurons\")"
   ]
  },
  {
   "cell_type": "code",
   "execution_count": 25,
   "metadata": {
    "scrolled": true,
    "slideshow": {
     "slide_type": "slide"
    }
   },
   "outputs": [
    {
     "name": "stdout",
     "output_type": "stream",
     "text": [
      "Iteration 0 Cost: 0.915663\n",
      "Iteration 1000 Cost: 0.526426\n",
      "Iteration 2000 Cost: 0.444497\n",
      "Iteration 3000 Cost: 0.332683\n",
      "Iteration 4000 Cost: 0.216390\n",
      "Iteration 5000 Cost: 0.139040\n",
      "Iteration 6000 Cost: 0.095075\n",
      "Iteration 7000 Cost: 0.069907\n",
      "Iteration 8000 Cost: 0.054508\n",
      "Iteration 9000 Cost: 0.044389\n",
      "Iteration 10000 Cost: 0.037326\n",
      "Iteration 11000 Cost: 0.032152\n",
      "Iteration 12000 Cost: 0.028215\n",
      "Iteration 13000 Cost: 0.025125\n",
      "Iteration 14000 Cost: 0.022639\n",
      "Iteration 15000 Cost: 0.020597\n",
      "Iteration 16000 Cost: 0.018891\n",
      "Iteration 17000 Cost: 0.017445\n",
      "Iteration 18000 Cost: 0.016205\n",
      "Iteration 19000 Cost: 0.015128\n",
      "Iteration 20000 Cost: 0.014186\n",
      "Iteration 21000 Cost: 0.013354\n",
      "Iteration 22000 Cost: 0.012614\n",
      "Iteration 23000 Cost: 0.011952\n",
      "Iteration 24000 Cost: 0.011356\n",
      "Iteration 25000 Cost: 0.010816\n",
      "Iteration 26000 Cost: 0.010326\n",
      "Iteration 27000 Cost: 0.009878\n",
      "Iteration 28000 Cost: 0.009467\n",
      "Iteration 29000 Cost: 0.009090\n",
      "Iteration 30000 Cost: 0.008741\n",
      "Iteration 31000 Cost: 0.008418\n",
      "Iteration 32000 Cost: 0.008118\n",
      "Iteration 33000 Cost: 0.007839\n",
      "Iteration 34000 Cost: 0.007578\n",
      "Iteration 35000 Cost: 0.007335\n",
      "Iteration 36000 Cost: 0.007106\n",
      "Iteration 37000 Cost: 0.006891\n",
      "Iteration 38000 Cost: 0.006689\n",
      "Iteration 39000 Cost: 0.006499\n",
      "Iteration 40000 Cost: 0.006319\n",
      "Iteration 41000 Cost: 0.006148\n",
      "Iteration 42000 Cost: 0.005987\n",
      "Iteration 43000 Cost: 0.005834\n",
      "Iteration 44000 Cost: 0.005688\n",
      "Iteration 45000 Cost: 0.005550\n",
      "Iteration 46000 Cost: 0.005418\n",
      "Iteration 47000 Cost: 0.005293\n",
      "Iteration 48000 Cost: 0.005173\n",
      "Iteration 49000 Cost: 0.005058\n"
     ]
    }
   ],
   "source": [
    "model, _ = build_model(X, y, 4) # 4 neurons in a hidden layer"
   ]
  },
  {
   "cell_type": "code",
   "execution_count": 26,
   "metadata": {
    "slideshow": {
     "slide_type": "slide"
    }
   },
   "outputs": [
    {
     "data": {
      "text/plain": [
       "Text(0.5,1,u'Neural Networks with 4 neurons')"
      ]
     },
     "execution_count": 26,
     "metadata": {},
     "output_type": "execute_result"
    },
    {
     "data": {
      "image/png": "[encoded data removed]",
      "text/plain": [
       "<matplotlib.figure.Figure at 0x1150c9350>"
      ]
     },
     "metadata": {},
     "output_type": "display_data"
    }
   ],
   "source": [
    "# Plot the decision boundary\n",
    "plot_decision_boundary(lambda x: model.predict(x), X, y)\n",
    "plt.title(\"Neural Networks with 4 neurons\")"
   ]
  },
  {
   "cell_type": "markdown",
   "metadata": {
    "slideshow": {
     "slide_type": "slide"
    }
   },
   "source": [
    "## Deep Learning?\n",
    "\n",
    "![alt text](https://media.condenast.io/photos/59f36f317953d714f00d7706/master/pass/unnamed0.png \"nn\")"
   ]
  },
  {
   "cell_type": "markdown",
   "metadata": {
    "collapsed": true,
    "slideshow": {
     "slide_type": "slide"
    }
   },
   "source": [
    "### The problem of very deep neural networks\n",
    "---------\n",
    "\n",
    "<p> Theoritically, the main benefit of a very deep network is that it can **represent very complex functions**. Specifically, by using a deeper architecture, we can learn features at many different levels of abstraction, from edges (at the lower layers) to very complex features (at the deeper layers).</p><br/>"
   ]
  },
  {
   "cell_type": "markdown",
   "metadata": {
    "slideshow": {
     "slide_type": "slide"
    }
   },
   "source": [
    "<p> However, using a deeper network doesn't always help in practice. The biggest problem that we will encounter when training a deeper network is the *vanishing gradients* problem: a condition where a very deep networks often have a gradient signal that goes to zero quickly, thus making gradient descent unbearably slow. </p><br/>"
   ]
  },
  {
   "cell_type": "markdown",
   "metadata": {
    "slideshow": {
     "slide_type": "slide"
    }
   },
   "source": [
    "<p> More specifically, during gradient descent, as we backprop from the final layer back to the first layer, we are multiplying by the weight matrix on each step, and thus the gradient can decrease exponentially quickly to zero or, in rare cases, grow exponentially quickly and \"explode\" to take very large values. \n",
    "\n",
    "</p>\n",
    "During training, you might therefore see the magnitude (or norm) of the gradient for the earlier layers descrease to zero very rapidly as training proceeds: "
   ]
  },
  {
   "cell_type": "markdown",
   "metadata": {
    "collapsed": true,
    "slideshow": {
     "slide_type": "slide"
    }
   },
   "source": [
    "<img src=\"images/vanishing_grad_kiank.png\" style=\"width:450px;height:220px;\">\n",
    "<caption><center> <u> <font color='purple'> <font color='purple'> **Vanishing gradient** <br> The speed of learning decreases very rapidly for the early layers as the network trains </center></caption>"
   ]
  }
 ],
 "metadata": {
  "celltoolbar": "Slideshow",
  "kernelspec": {
   "display_name": "Python 2",
   "language": "python",
   "name": "python2"
  },
  "language_info": {
   "codemirror_mode": {
    "name": "ipython",
    "version": 2
   },
   "file_extension": ".py",
   "mimetype": "text/x-python",
   "name": "python",
   "nbconvert_exporter": "python",
   "pygments_lexer": "ipython2",
   "version": "2.7.14"
  }
 },
 "nbformat": 4,
 "nbformat_minor": 2
}
