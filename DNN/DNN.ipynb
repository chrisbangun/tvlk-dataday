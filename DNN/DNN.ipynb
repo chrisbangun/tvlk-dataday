{
 "cells": [
  {
   "cell_type": "code",
   "execution_count": 210,
   "metadata": {
    "collapsed": true
   },
   "outputs": [],
   "source": [
    "import matplotlib.pyplot as plt\n",
    "import numpy as np\n",
    "import matplotlib\n",
    "\n",
    "# Display plots inline and change default figure size\n",
    "%matplotlib inline\n",
    "matplotlib.rcParams['figure.figsize'] = (10.0, 8.0)"
   ]
  },
  {
   "cell_type": "code",
   "execution_count": 198,
   "metadata": {
    "collapsed": true
   },
   "outputs": [],
   "source": [
    "# Helper function to plot a decision boundary.\n",
    "def plot_decision_boundary(pred_func, X, y):\n",
    "    # Set min and max values and give it some padding\n",
    "    x_min, x_max = X[:, 0].min() - .5, X[:, 0].max() + .5\n",
    "    y_min, y_max = X[:, 1].min() - .5, X[:, 1].max() + .5\n",
    "    h = 0.01\n",
    "    # Generate a grid of points with distance h between them\n",
    "    xx, yy = np.meshgrid(np.arange(x_min, x_max, h), np.arange(y_min, y_max, h))\n",
    "    # Predict the function value for the whole gid\n",
    "    Z = pred_func(np.c_[xx.ravel(), yy.ravel()])\n",
    "    Z = Z.reshape(xx.shape)\n",
    "    # Plot the contour and training examples\n",
    "    plt.contourf(xx, yy, Z, cmap=plt.cm.Spectral)\n",
    "    plt.scatter(X[:, 0], X[:, 1], c=y.reshape((4, )), cmap=plt.cm.Spectral)"
   ]
  },
  {
   "cell_type": "code",
   "execution_count": 214,
   "metadata": {},
   "outputs": [],
   "source": [
    "class DNN(object):\n",
    "    def __init__(self, layer_dims, learning_rate=0.01):\n",
    "        \"\"\"\n",
    "        argument:\n",
    "        layer_dims: a list containing the number of neurons in the respective layers of the network\n",
    "        learning_rate: a hyperparam used in gradient descent\n",
    "        \"\"\"\n",
    "        self.num_layers = len(layer_dims)\n",
    "        self.layer_dims = layer_dims\n",
    "        self.weights = [np.random.randn(x, y)\n",
    "                       for x, y in zip(layer_dims[:-1], layer_dims[1:])]\n",
    "\n",
    "        self.biases = [np.random.rand(1, y)\n",
    "                      for y in layer_dims[1:]]\n",
    "    \n",
    "            \n",
    "        self.learning_rate = 0.01\n",
    "  \n",
    "    def _sigmoid(self, z):\n",
    "        return 1.0/(1.0+np.exp(-z))\n",
    "\n",
    "    def _sigmoid_prime(self, z):\n",
    "        return self._sigmoid(z) * (1 - self._sigmoid(z))\n",
    "  \n",
    "    def feedforward(self, x):\n",
    "        zs = []\n",
    "        activations = [x]\n",
    "        a = x\n",
    "        \n",
    "        for w, b in zip(self.weights, self.biases):\n",
    "            z = np.dot(a, w) + b\n",
    "            zs.append(z)\n",
    "            a = self._sigmoid(z)\n",
    "            activations.append(a)\n",
    "\n",
    "        self.zs = zs\n",
    "        self.activations = activations\n",
    "        return self.activations[-1]\n",
    "  \n",
    "    def compute_cost(self, y_hat, y):\n",
    "        \"\"\"\n",
    "        Computes the cross-entropy cost \n",
    "        \"\"\"\n",
    "        m = y.shape[0] # number of example\n",
    "        logprobs = np.multiply(np.log(y_hat), y) + np.multiply((1 - y), np.log(1 - y_hat))\n",
    "        cost = - np.sum(logprobs) / m\n",
    "        cost = np.squeeze(cost)     # makes sure cost is the dimension we expect.\n",
    "        return cost\n",
    "    \n",
    "        \n",
    "    def backprop(self, y):\n",
    "        dW = [np.zeros(w.shape) for w in self.weights]\n",
    "        db = [np.zeros(b.shape) for b in self.biases]\n",
    "\n",
    "        delta = (self.activations[-1] - y) * self._sigmoid_prime(self.zs[-1])\n",
    "        db[-1] = np.squeeze(np.sum(delta, axis=0, keepdims=True))\n",
    "        dW[-1] = np.dot(self.activations[-2].T, delta)\n",
    "\n",
    "        for l in xrange(2, self.num_layers):\n",
    "            z = self.zs[-l]\n",
    "            delta = np.dot(delta, self.weights[-l+1].T) * self._sigmoid_prime(z)\n",
    "            db[-l] = np.squeeze(np.sum(delta, axis=0, keepdims=True))\n",
    "            dW[-l] = np.dot(self.activations[-l-1].T, delta)\n",
    "\n",
    "        return dW, db\n",
    "  \n",
    "    def update_parameters(self, dW, db):\n",
    "        weights = []\n",
    "        biases = []\n",
    "        for w, b, dw, _db in zip(self.weights, self.biases, dW, db):\n",
    "        \n",
    "            w = w - self.learning_rate * dw\n",
    "            b = b - self.learning_rate * _db\n",
    "            weights.append(w)\n",
    "            biases.append(b)\n",
    "\n",
    "        self.weights = weights\n",
    "        self.biases = biases\n",
    "    \n",
    "    def predict(self, data):\n",
    "        a = self.feedforward(data)\n",
    "        predictions = np.round(a)\n",
    "\n",
    "        return predictions"
   ]
  },
  {
   "cell_type": "code",
   "execution_count": 215,
   "metadata": {
    "collapsed": true
   },
   "outputs": [],
   "source": [
    "def build_model(X, y, layer_dims, learning_rate=0.01, num_iterations=50000, verbose=True):\n",
    "    model = DNN(layer_dims=layer_dims, learning_rate=learning_rate)\n",
    "    cost_history = []\n",
    "    for i in range(0, num_iterations):\n",
    "        A2 = model.feedforward(X)\n",
    "        cost = model.compute_cost(A2, y)\n",
    "        dW, db = model.backprop(y)\n",
    "        model.update_parameters(dW, db)\n",
    "        if i % 1000 == 0 and verbose:\n",
    "            print (\"Iteration %i Cost: %f\" % (i, cost))\n",
    "            \n",
    "        cost_history.append(cost)\n",
    "    return model, cost_history"
   ]
  },
  {
   "cell_type": "code",
   "execution_count": 216,
   "metadata": {
    "collapsed": true
   },
   "outputs": [],
   "source": [
    "X = np.array([[0, 0],\n",
    "                  [0, 1],\n",
    "                  [1, 0],\n",
    "                  [1, 1]])\n",
    "y = np.array([[0,1,1,0]]).T"
   ]
  },
  {
   "cell_type": "code",
   "execution_count": 217,
   "metadata": {},
   "outputs": [
    {
     "name": "stdout",
     "output_type": "stream",
     "text": [
      "Iteration 0 Cost: 0.701986\n",
      "Iteration 1000 Cost: 0.693003\n",
      "Iteration 2000 Cost: 0.692945\n",
      "Iteration 3000 Cost: 0.692891\n",
      "Iteration 4000 Cost: 0.692842\n",
      "Iteration 5000 Cost: 0.692795\n",
      "Iteration 6000 Cost: 0.692751\n",
      "Iteration 7000 Cost: 0.692708\n",
      "Iteration 8000 Cost: 0.692666\n",
      "Iteration 9000 Cost: 0.692625\n",
      "Iteration 10000 Cost: 0.692584\n",
      "Iteration 11000 Cost: 0.692542\n",
      "Iteration 12000 Cost: 0.692500\n",
      "Iteration 13000 Cost: 0.692457\n",
      "Iteration 14000 Cost: 0.692412\n",
      "Iteration 15000 Cost: 0.692365\n",
      "Iteration 16000 Cost: 0.692317\n",
      "Iteration 17000 Cost: 0.692266\n",
      "Iteration 18000 Cost: 0.692212\n",
      "Iteration 19000 Cost: 0.692155\n",
      "Iteration 20000 Cost: 0.692094\n",
      "Iteration 21000 Cost: 0.692029\n",
      "Iteration 22000 Cost: 0.691960\n",
      "Iteration 23000 Cost: 0.691885\n",
      "Iteration 24000 Cost: 0.691805\n",
      "Iteration 25000 Cost: 0.691718\n",
      "Iteration 26000 Cost: 0.691624\n",
      "Iteration 27000 Cost: 0.691521\n",
      "Iteration 28000 Cost: 0.691409\n",
      "Iteration 29000 Cost: 0.691287\n",
      "Iteration 30000 Cost: 0.691153\n",
      "Iteration 31000 Cost: 0.691005\n",
      "Iteration 32000 Cost: 0.690842\n",
      "Iteration 33000 Cost: 0.690661\n",
      "Iteration 34000 Cost: 0.690460\n",
      "Iteration 35000 Cost: 0.690235\n",
      "Iteration 36000 Cost: 0.689983\n",
      "Iteration 37000 Cost: 0.689700\n",
      "Iteration 38000 Cost: 0.689379\n",
      "Iteration 39000 Cost: 0.689013\n",
      "Iteration 40000 Cost: 0.688596\n",
      "Iteration 41000 Cost: 0.688116\n",
      "Iteration 42000 Cost: 0.687562\n",
      "Iteration 43000 Cost: 0.686917\n",
      "Iteration 44000 Cost: 0.686162\n",
      "Iteration 45000 Cost: 0.685274\n",
      "Iteration 46000 Cost: 0.684220\n",
      "Iteration 47000 Cost: 0.682964\n",
      "Iteration 48000 Cost: 0.681455\n",
      "Iteration 49000 Cost: 0.679635\n"
     ]
    },
    {
     "data": {
      "text/plain": [
       "Text(0.5,1,u'Neural Networks with 2 hidden layers neurons')"
      ]
     },
     "execution_count": 217,
     "metadata": {},
     "output_type": "execute_result"
    },
    {
     "data": {
      "image/png": "[encoded data removed]",
      "text/plain": [
       "<matplotlib.figure.Figure at 0x11863e2d0>"
      ]
     },
     "metadata": {},
     "output_type": "display_data"
    }
   ],
   "source": [
    "model, cost_history = build_model(X, y, [2, 3, 3, 1])\n",
    "# Plot the decision boundary\n",
    "plot_decision_boundary(lambda x: model.predict(x), X, y)\n",
    "plt.title(\"Neural Networks with 2 hidden layers neurons\")"
   ]
  },
  {
   "cell_type": "code",
   "execution_count": 218,
   "metadata": {},
   "outputs": [
    {
     "name": "stdout",
     "output_type": "stream",
     "text": [
      "Iteration 0 Cost: 0.716862\n",
      "Iteration 1000 Cost: 0.693410\n",
      "Iteration 2000 Cost: 0.693070\n",
      "Iteration 3000 Cost: 0.692786\n",
      "Iteration 4000 Cost: 0.692546\n",
      "Iteration 5000 Cost: 0.692338\n",
      "Iteration 6000 Cost: 0.692153\n",
      "Iteration 7000 Cost: 0.691986\n",
      "Iteration 8000 Cost: 0.691829\n",
      "Iteration 9000 Cost: 0.691679\n",
      "Iteration 10000 Cost: 0.691530\n",
      "Iteration 11000 Cost: 0.691380\n",
      "Iteration 12000 Cost: 0.691225\n",
      "Iteration 13000 Cost: 0.691062\n",
      "Iteration 14000 Cost: 0.690887\n",
      "Iteration 15000 Cost: 0.690697\n",
      "Iteration 16000 Cost: 0.690490\n",
      "Iteration 17000 Cost: 0.690260\n",
      "Iteration 18000 Cost: 0.690003\n",
      "Iteration 19000 Cost: 0.689714\n",
      "Iteration 20000 Cost: 0.689387\n",
      "Iteration 21000 Cost: 0.689013\n",
      "Iteration 22000 Cost: 0.688582\n",
      "Iteration 23000 Cost: 0.688083\n",
      "Iteration 24000 Cost: 0.687500\n",
      "Iteration 25000 Cost: 0.686812\n",
      "Iteration 26000 Cost: 0.685994\n",
      "Iteration 27000 Cost: 0.685013\n",
      "Iteration 28000 Cost: 0.683823\n",
      "Iteration 29000 Cost: 0.682368\n",
      "Iteration 30000 Cost: 0.680568\n",
      "Iteration 31000 Cost: 0.678318\n",
      "Iteration 32000 Cost: 0.675479\n",
      "Iteration 33000 Cost: 0.671864\n",
      "Iteration 34000 Cost: 0.667227\n",
      "Iteration 35000 Cost: 0.661257\n",
      "Iteration 36000 Cost: 0.653582\n",
      "Iteration 37000 Cost: 0.643794\n",
      "Iteration 38000 Cost: 0.631510\n",
      "Iteration 39000 Cost: 0.616432\n",
      "Iteration 40000 Cost: 0.598327\n",
      "Iteration 41000 Cost: 0.576780\n",
      "Iteration 42000 Cost: 0.550694\n",
      "Iteration 43000 Cost: 0.517814\n",
      "Iteration 44000 Cost: 0.475175\n",
      "Iteration 45000 Cost: 0.421436\n",
      "Iteration 46000 Cost: 0.360329\n",
      "Iteration 47000 Cost: 0.300855\n",
      "Iteration 48000 Cost: 0.250742\n",
      "Iteration 49000 Cost: 0.211843\n"
     ]
    },
    {
     "data": {
      "text/plain": [
       "Text(0.5,1,u'Neural Networks with 3 hidden layers neurons')"
      ]
     },
     "execution_count": 218,
     "metadata": {},
     "output_type": "execute_result"
    },
    {
     "data": {
      "image/png": "[encoded data removed]",
      "text/plain": [
       "<matplotlib.figure.Figure at 0x118af0050>"
      ]
     },
     "metadata": {},
     "output_type": "display_data"
    }
   ],
   "source": [
    "model, cost_history = build_model(X, y, [2, 3, 3, 3, 1])\n",
    "# Plot the decision boundary\n",
    "plot_decision_boundary(lambda x: model.predict(x), X, y)\n",
    "plt.title(\"Neural Networks with 3 hidden layers neurons\")"
   ]
  },
  {
   "cell_type": "code",
   "execution_count": 219,
   "metadata": {},
   "outputs": [
    {
     "name": "stdout",
     "output_type": "stream",
     "text": [
      "Iteration 0 Cost: 0.690011\n",
      "Iteration 1000 Cost: 0.687886\n",
      "Iteration 2000 Cost: 0.685081\n",
      "Iteration 3000 Cost: 0.681189\n",
      "Iteration 4000 Cost: 0.675844\n",
      "Iteration 5000 Cost: 0.668943\n",
      "Iteration 6000 Cost: 0.660551\n",
      "Iteration 7000 Cost: 0.650427\n",
      "Iteration 8000 Cost: 0.638150\n",
      "Iteration 9000 Cost: 0.623539\n",
      "Iteration 10000 Cost: 0.606742\n",
      "Iteration 11000 Cost: 0.588103\n",
      "Iteration 12000 Cost: 0.567892\n",
      "Iteration 13000 Cost: 0.545983\n",
      "Iteration 14000 Cost: 0.521617\n",
      "Iteration 15000 Cost: 0.493383\n",
      "Iteration 16000 Cost: 0.459641\n",
      "Iteration 17000 Cost: 0.419721\n",
      "Iteration 18000 Cost: 0.375369\n",
      "Iteration 19000 Cost: 0.330622\n",
      "Iteration 20000 Cost: 0.289577\n",
      "Iteration 21000 Cost: 0.254426\n",
      "Iteration 22000 Cost: 0.225411\n",
      "Iteration 23000 Cost: 0.201764\n",
      "Iteration 24000 Cost: 0.182473\n",
      "Iteration 25000 Cost: 0.166614\n",
      "Iteration 26000 Cost: 0.153443\n",
      "Iteration 27000 Cost: 0.142382\n",
      "Iteration 28000 Cost: 0.132990\n",
      "Iteration 29000 Cost: 0.124931\n",
      "Iteration 30000 Cost: 0.117947\n",
      "Iteration 31000 Cost: 0.111841\n",
      "Iteration 32000 Cost: 0.106456\n",
      "Iteration 33000 Cost: 0.101672\n",
      "Iteration 34000 Cost: 0.097392\n",
      "Iteration 35000 Cost: 0.093538\n",
      "Iteration 36000 Cost: 0.090049\n",
      "Iteration 37000 Cost: 0.086873\n",
      "Iteration 38000 Cost: 0.083968\n",
      "Iteration 39000 Cost: 0.081300\n",
      "Iteration 40000 Cost: 0.078840\n",
      "Iteration 41000 Cost: 0.076562\n",
      "Iteration 42000 Cost: 0.074448\n",
      "Iteration 43000 Cost: 0.072478\n",
      "Iteration 44000 Cost: 0.070637\n",
      "Iteration 45000 Cost: 0.068914\n",
      "Iteration 46000 Cost: 0.067295\n",
      "Iteration 47000 Cost: 0.065772\n",
      "Iteration 48000 Cost: 0.064335\n",
      "Iteration 49000 Cost: 0.062978\n"
     ]
    },
    {
     "data": {
      "text/plain": [
       "Text(0.5,1,u'Neural Networks with 2 hidden layers neurons')"
      ]
     },
     "execution_count": 219,
     "metadata": {},
     "output_type": "execute_result"
    },
    {
     "data": {
      "image/png": "[encoded data removed]",
      "text/plain": [
       "<matplotlib.figure.Figure at 0x1185cf550>"
      ]
     },
     "metadata": {},
     "output_type": "display_data"
    }
   ],
   "source": [
    "model, cost_history = build_model(X, y, [2, 5, 5, 1])\n",
    "# Plot the decision boundary\n",
    "plot_decision_boundary(lambda x: model.predict(x), X, y)\n",
    "plt.title(\"Neural Networks with 2 hidden layers neurons\")"
   ]
  },
  {
   "cell_type": "code",
   "execution_count": 220,
   "metadata": {},
   "outputs": [
    {
     "name": "stdout",
     "output_type": "stream",
     "text": [
      "Iteration 0 Cost: 1.028033\n",
      "Iteration 1000 Cost: 0.687700\n",
      "Iteration 2000 Cost: 0.682116\n",
      "Iteration 3000 Cost: 0.674516\n",
      "Iteration 4000 Cost: 0.664335\n",
      "Iteration 5000 Cost: 0.651776\n",
      "Iteration 6000 Cost: 0.637367\n",
      "Iteration 7000 Cost: 0.621206\n",
      "Iteration 8000 Cost: 0.602969\n",
      "Iteration 9000 Cost: 0.582257\n",
      "Iteration 10000 Cost: 0.558790\n",
      "Iteration 11000 Cost: 0.532433\n",
      "Iteration 12000 Cost: 0.503194\n",
      "Iteration 13000 Cost: 0.471317\n",
      "Iteration 14000 Cost: 0.437485\n",
      "Iteration 15000 Cost: 0.402928\n",
      "Iteration 16000 Cost: 0.369119\n",
      "Iteration 17000 Cost: 0.337273\n",
      "Iteration 18000 Cost: 0.308112\n",
      "Iteration 19000 Cost: 0.281918\n",
      "Iteration 20000 Cost: 0.258680\n",
      "Iteration 21000 Cost: 0.238216\n",
      "Iteration 22000 Cost: 0.220262\n",
      "Iteration 23000 Cost: 0.204522\n",
      "Iteration 24000 Cost: 0.190710\n",
      "Iteration 25000 Cost: 0.178558\n",
      "Iteration 26000 Cost: 0.167832\n",
      "Iteration 27000 Cost: 0.158326\n",
      "Iteration 28000 Cost: 0.149866\n",
      "Iteration 29000 Cost: 0.142304\n",
      "Iteration 30000 Cost: 0.135515\n",
      "Iteration 31000 Cost: 0.129394\n",
      "Iteration 32000 Cost: 0.123852\n",
      "Iteration 33000 Cost: 0.118816\n",
      "Iteration 34000 Cost: 0.114220\n",
      "Iteration 35000 Cost: 0.110012\n",
      "Iteration 36000 Cost: 0.106146\n",
      "Iteration 37000 Cost: 0.102582\n",
      "Iteration 38000 Cost: 0.099288\n",
      "Iteration 39000 Cost: 0.096233\n",
      "Iteration 40000 Cost: 0.093393\n",
      "Iteration 41000 Cost: 0.090746\n",
      "Iteration 42000 Cost: 0.088272\n",
      "Iteration 43000 Cost: 0.085956\n",
      "Iteration 44000 Cost: 0.083783\n",
      "Iteration 45000 Cost: 0.081739\n",
      "Iteration 46000 Cost: 0.079814\n",
      "Iteration 47000 Cost: 0.077996\n",
      "Iteration 48000 Cost: 0.076278\n",
      "Iteration 49000 Cost: 0.074651\n"
     ]
    },
    {
     "data": {
      "text/plain": [
       "Text(0.5,1,u'Neural Networks with 2 hidden layers neurons')"
      ]
     },
     "execution_count": 220,
     "metadata": {},
     "output_type": "execute_result"
    },
    {
     "data": {
      "image/png": "[encoded data removed]",
      "text/plain": [
       "<matplotlib.figure.Figure at 0x118527410>"
      ]
     },
     "metadata": {},
     "output_type": "display_data"
    }
   ],
   "source": [
    "model, cost_history = build_model(X, y, [2, 5, 1])\n",
    "# Plot the decision boundary\n",
    "plot_decision_boundary(lambda x: model.predict(x), X, y)\n",
    "plt.title(\"Neural Networks with 2 hidden layers neurons\")"
   ]
  },
  {
   "cell_type": "code",
   "execution_count": 222,
   "metadata": {},
   "outputs": [
    {
     "name": "stdout",
     "output_type": "stream",
     "text": [
      "Iteration 0 Cost: 0.779131\n",
      "Iteration 1000 Cost: 0.693641\n",
      "Iteration 2000 Cost: 0.693142\n",
      "Iteration 3000 Cost: 0.692652\n",
      "Iteration 4000 Cost: 0.692153\n",
      "Iteration 5000 Cost: 0.691628\n",
      "Iteration 6000 Cost: 0.691059\n",
      "Iteration 7000 Cost: 0.690425\n",
      "Iteration 8000 Cost: 0.689704\n",
      "Iteration 9000 Cost: 0.688864\n",
      "Iteration 10000 Cost: 0.687868\n",
      "Iteration 11000 Cost: 0.686665\n",
      "Iteration 12000 Cost: 0.685186\n",
      "Iteration 13000 Cost: 0.683333\n",
      "Iteration 14000 Cost: 0.680963\n",
      "Iteration 15000 Cost: 0.677865\n",
      "Iteration 16000 Cost: 0.673721\n",
      "Iteration 17000 Cost: 0.668044\n",
      "Iteration 18000 Cost: 0.660081\n",
      "Iteration 19000 Cost: 0.648655\n",
      "Iteration 20000 Cost: 0.631848\n",
      "Iteration 21000 Cost: 0.606438\n",
      "Iteration 22000 Cost: 0.567125\n",
      "Iteration 23000 Cost: 0.506904\n",
      "Iteration 24000 Cost: 0.423201\n",
      "Iteration 25000 Cost: 0.329816\n",
      "Iteration 26000 Cost: 0.250237\n",
      "Iteration 27000 Cost: 0.193800\n",
      "Iteration 28000 Cost: 0.156034\n",
      "Iteration 29000 Cost: 0.130379\n",
      "Iteration 30000 Cost: 0.112260\n",
      "Iteration 31000 Cost: 0.098928\n",
      "Iteration 32000 Cost: 0.088757\n",
      "Iteration 33000 Cost: 0.080755\n",
      "Iteration 34000 Cost: 0.074298\n",
      "Iteration 35000 Cost: 0.068975\n",
      "Iteration 36000 Cost: 0.064507\n",
      "Iteration 37000 Cost: 0.060701\n",
      "Iteration 38000 Cost: 0.057416\n",
      "Iteration 39000 Cost: 0.054550\n",
      "Iteration 40000 Cost: 0.052024\n",
      "Iteration 41000 Cost: 0.049779\n",
      "Iteration 42000 Cost: 0.047770\n",
      "Iteration 43000 Cost: 0.045960\n",
      "Iteration 44000 Cost: 0.044318\n",
      "Iteration 45000 Cost: 0.042822\n",
      "Iteration 46000 Cost: 0.041453\n",
      "Iteration 47000 Cost: 0.040193\n",
      "Iteration 48000 Cost: 0.039030\n",
      "Iteration 49000 Cost: 0.037953\n"
     ]
    },
    {
     "data": {
      "text/plain": [
       "Text(0.5,1,u'Neural Networks with 3 hidden layers neurons')"
      ]
     },
     "execution_count": 222,
     "metadata": {},
     "output_type": "execute_result"
    },
    {
     "data": {
      "image/png": "[encoded data removed]",
      "text/plain": [
       "<matplotlib.figure.Figure at 0x118bfbad0>"
      ]
     },
     "metadata": {},
     "output_type": "display_data"
    }
   ],
   "source": [
    "model, cost_history = build_model(X, y, [2, 5, 5, 5, 1])\n",
    "# Plot the decision boundary\n",
    "plot_decision_boundary(lambda x: model.predict(x), X, y)\n",
    "plt.title(\"Neural Networks with 3 hidden layers neurons\")"
   ]
  },
  {
   "cell_type": "code",
   "execution_count": 223,
   "metadata": {},
   "outputs": [
    {
     "name": "stdout",
     "output_type": "stream",
     "text": [
      "Iteration 0 Cost: 0.929881\n",
      "Iteration 1000 Cost: 0.696725\n",
      "Iteration 2000 Cost: 0.696257\n",
      "Iteration 3000 Cost: 0.695858\n",
      "Iteration 4000 Cost: 0.695513\n",
      "Iteration 5000 Cost: 0.695212\n",
      "Iteration 6000 Cost: 0.694945\n",
      "Iteration 7000 Cost: 0.694707\n",
      "Iteration 8000 Cost: 0.694491\n",
      "Iteration 9000 Cost: 0.694294\n",
      "Iteration 10000 Cost: 0.694112\n",
      "Iteration 11000 Cost: 0.693942\n",
      "Iteration 12000 Cost: 0.693782\n",
      "Iteration 13000 Cost: 0.693630\n",
      "Iteration 14000 Cost: 0.693484\n",
      "Iteration 15000 Cost: 0.693341\n",
      "Iteration 16000 Cost: 0.693202\n",
      "Iteration 17000 Cost: 0.693064\n",
      "Iteration 18000 Cost: 0.692926\n",
      "Iteration 19000 Cost: 0.692787\n",
      "Iteration 20000 Cost: 0.692645\n",
      "Iteration 21000 Cost: 0.692500\n",
      "Iteration 22000 Cost: 0.692349\n",
      "Iteration 23000 Cost: 0.692192\n",
      "Iteration 24000 Cost: 0.692026\n",
      "Iteration 25000 Cost: 0.691851\n",
      "Iteration 26000 Cost: 0.691663\n",
      "Iteration 27000 Cost: 0.691462\n",
      "Iteration 28000 Cost: 0.691244\n",
      "Iteration 29000 Cost: 0.691007\n",
      "Iteration 30000 Cost: 0.690748\n",
      "Iteration 31000 Cost: 0.690463\n",
      "Iteration 32000 Cost: 0.690147\n",
      "Iteration 33000 Cost: 0.689796\n",
      "Iteration 34000 Cost: 0.689402\n",
      "Iteration 35000 Cost: 0.688959\n",
      "Iteration 36000 Cost: 0.688458\n",
      "Iteration 37000 Cost: 0.687886\n",
      "Iteration 38000 Cost: 0.687232\n",
      "Iteration 39000 Cost: 0.686476\n",
      "Iteration 40000 Cost: 0.685599\n",
      "Iteration 41000 Cost: 0.684573\n",
      "Iteration 42000 Cost: 0.683363\n",
      "Iteration 43000 Cost: 0.681926\n",
      "Iteration 44000 Cost: 0.680206\n",
      "Iteration 45000 Cost: 0.678132\n",
      "Iteration 46000 Cost: 0.675613\n",
      "Iteration 47000 Cost: 0.672537\n",
      "Iteration 48000 Cost: 0.668767\n",
      "Iteration 49000 Cost: 0.664141\n"
     ]
    },
    {
     "data": {
      "text/plain": [
       "Text(0.5,1,u'Neural Networks with 2 hidden layers neurons')"
      ]
     },
     "execution_count": 223,
     "metadata": {},
     "output_type": "execute_result"
    },
    {
     "data": {
      "image/png": "[encoded data removed]",
      "text/plain": [
       "<matplotlib.figure.Figure at 0x118c93e50>"
      ]
     },
     "metadata": {},
     "output_type": "display_data"
    }
   ],
   "source": [
    "model, cost_history = build_model(X, y, [2, 5, 5, 5, 1])\n",
    "# Plot the decision boundary\n",
    "plot_decision_boundary(lambda x: model.predict(x), X, y)\n",
    "plt.title(\"Neural Networks with 2 hidden layers neurons\")"
   ]
  },
  {
   "cell_type": "code",
   "execution_count": null,
   "metadata": {
    "collapsed": true
   },
   "outputs": [],
   "source": []
  }
 ],
 "metadata": {
  "kernelspec": {
   "display_name": "Python 2",
   "language": "python",
   "name": "python2"
  },
  "language_info": {
   "codemirror_mode": {
    "name": "ipython",
    "version": 2
   },
   "file_extension": ".py",
   "mimetype": "text/x-python",
   "name": "python",
   "nbconvert_exporter": "python",
   "pygments_lexer": "ipython2",
   "version": "2.7.14"
  }
 },
 "nbformat": 4,
 "nbformat_minor": 2
}
